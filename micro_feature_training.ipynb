{
 "cells": [
  {
   "cell_type": "code",
   "execution_count": 2,
   "metadata": {},
   "outputs": [],
   "source": [
    "import tensorflow as tf \n",
    "from tensorflow import keras \n",
    "import matplotlib.pyplot as plt\n",
    "import rasterio \n",
    "import raster_tools as rt \n",
    "import ai_tools as ai\n",
    "import numpy as np\n",
    "from joblib import dump\n",
    "\n",
    "from keras.backend import clear_session\n",
    "from numba import cuda"
   ]
  },
  {
   "cell_type": "markdown",
   "metadata": {},
   "source": [
    "# Micro Feature Model"
   ]
  },
  {
   "cell_type": "code",
   "execution_count": null,
   "metadata": {},
   "outputs": [],
   "source": [
    "input_dir = \"training_data/micro_features/annoations\"\n",
    "target_dir =  \"training_data/micro_features/annoations\"\n",
    "result_folder = \"processed_raster\""
   ]
  },
  {
   "cell_type": "code",
   "execution_count": null,
   "metadata": {},
   "outputs": [],
   "source": [
    "filters = 16\n",
    "dropout= 0.15\n",
    "batch_size= 64 * 2\n",
    "img_size = (128,128)\n",
    "nbands = 3\n",
    "epochs = 250\n",
    "nclasses =7\n",
    "num_val_samples = 147"
   ]
  },
  {
   "cell_type": "code",
   "execution_count": null,
   "metadata": {},
   "outputs": [],
   "source": [
    "train_generator, val_generator = ai.split_train_val(\n",
    "    input_dir,\n",
    "    target_dir,\n",
    "    num_val_samples=num_val_samples,\n",
    "    batch_size=batch_size,\n",
    "    img_size=img_size,\n",
    "    nbands=nbands, \n",
    "    nclasses=nclasses,\n",
    "    augment=True\n",
    ")"
   ]
  },
  {
   "cell_type": "code",
   "execution_count": null,
   "metadata": {},
   "outputs": [],
   "source": [
    "input_img = keras.Input(img_size +(nbands,))\n",
    "model = ai.get_multiUnet(\n",
    "    input_img,\n",
    "    nclasses=nclasses, \n",
    "    n_filters=filters, \n",
    "    dropout=dropout, \n",
    "    batchnorm=True\n",
    ")"
   ]
  },
  {
   "cell_type": "code",
   "execution_count": null,
   "metadata": {},
   "outputs": [],
   "source": [
    "model.summary()"
   ]
  },
  {
   "cell_type": "code",
   "execution_count": null,
   "metadata": {},
   "outputs": [],
   "source": [
    "model.compile(\n",
    "    optimizer=keras.optimizers.Adam(),\n",
    "    loss=keras.losses.categorical_crossentropy, \n",
    "    metrics=\"accuracy\"\n",
    ")"
   ]
  },
  {
   "cell_type": "code",
   "execution_count": null,
   "metadata": {},
   "outputs": [],
   "source": [
    "history_micro = model.fit(\n",
    "    train_generator,\n",
    "    validation_data=val_generator, \n",
    "    batch_size=batch_size,\n",
    "    epochs=epochs,\n",
    ")"
   ]
  },
  {
   "cell_type": "code",
   "execution_count": null,
   "metadata": {},
   "outputs": [],
   "source": [
    "dump(history_micro.history,\"historys/history_micro_feature_training\")\n",
    "model.save(\"micro_feature_model\")"
   ]
  },
  {
   "cell_type": "code",
   "execution_count": null,
   "metadata": {},
   "outputs": [],
   "source": [
    "fig, (ax1,ax2) = plt.subplots(1,2,figsize=(8,4.5))\n",
    "\n",
    "fig.suptitle(\"Model Performance - Micro-Features\")\n",
    "\n",
    "ax1.plot(history_micro['accuracy'])\n",
    "ax1.plot(history_micro['val_accuracy'])\n",
    "\n",
    "ax1.set_xlim(-1,150)\n",
    "\n",
    "ax1.set_title('Accuracy')\n",
    "ax1.set_ylabel('Accuracy')\n",
    "ax1.set_xlabel('Epoch')\n",
    "ax1.legend(['training', 'validation'], loc='lower right')\n",
    "\n",
    "\n",
    "ax1.set_yticks([i for i in np.arange(0,1.1,0.1)])\n",
    "ax1.set_ylim(0,1)\n",
    "ax2.set_ylim(0,14)\n",
    "ax2.set_yticks([i for i in np.arange(0,15,1)])\n",
    "\n",
    "ax2.plot(history_micro['loss'])\n",
    "ax2.plot(history_micro['val_loss'])\n",
    "ax2.set_xlim(-1,150)\n",
    "ax2.set_title('Loss')\n",
    "ax2.set_ylabel('Accuracy')\n",
    "ax2.set_xlabel('Epoch')\n",
    "ax2.legend(['training', 'validation'], loc='upper right')\n",
    "plt.savefig(\"model_low_res.png\",dpi=300)"
   ]
  },
  {
   "cell_type": "markdown",
   "metadata": {},
   "source": [
    "# Micro Features High Resolution (Drone Data)"
   ]
  },
  {
   "cell_type": "code",
   "execution_count": null,
   "metadata": {},
   "outputs": [],
   "source": [
    "input_dir = \"training_data/micro_features/images/\"\n",
    "target_dir =  \"training_data/micro_features/annotations/\"\n",
    "result_folder = \"ProcessedRaster/\""
   ]
  },
  {
   "cell_type": "code",
   "execution_count": null,
   "metadata": {},
   "outputs": [],
   "source": [
    "train_generator, val_generator = ai.split_train_val(\n",
    "    input_dir,\n",
    "    target_dir,\n",
    "    num_val_samples=10,\n",
    "    batch_size=1,\n",
    "    img_size=img_size,\n",
    "    nbands=nbands, \n",
    "    nclasses=nclasses,\n",
    "    augment=True\n",
    "\n",
    ")"
   ]
  },
  {
   "cell_type": "code",
   "execution_count": null,
   "metadata": {},
   "outputs": [],
   "source": [
    "model_drone = keras.models.load_model(\"micro_feature_model\")"
   ]
  },
  {
   "cell_type": "code",
   "execution_count": null,
   "metadata": {},
   "outputs": [],
   "source": [
    "hist_drone = model_drone.fit(\n",
    "    train_generator, \n",
    "    validation_data=val_generator, \n",
    "    batch_size=1,\n",
    "    epochs=200,\n",
    ")"
   ]
  },
  {
   "cell_type": "code",
   "execution_count": null,
   "metadata": {},
   "outputs": [],
   "source": [
    "model_drone.save(\"micro_feature_model_drone\")\n",
    "dump(hist_drone.history,\"historys/history_micro_feature_training\")"
   ]
  },
  {
   "cell_type": "code",
   "execution_count": null,
   "metadata": {},
   "outputs": [],
   "source": [
    "fig, (ax1,ax2) = plt.subplots(1,2,figsize=(8,4.5))\n",
    "\n",
    "ax1.plot(hist_drone.history['accuracy'])\n",
    "ax1.plot(hist_drone.history['val_accuracy'])\n",
    "\n",
    "ax1.set_xlim(-1,150)\n",
    "\n",
    "ax1.set_title('Accuracy')\n",
    "ax1.set_ylabel('Accuracy')\n",
    "ax1.set_xlabel('Epoch')\n",
    "ax1.legend(['training', 'validation'], loc='lower right')\n",
    "\n",
    "ax2.plot(hist_drone.history['loss'])\n",
    "ax2.plot(hist_drone.history['val_loss'])\n",
    "ax2.set_xlim(-1,150)\n",
    "ax2.set_title('Loss')\n",
    "ax2.set_ylabel('Accuracy')\n",
    "ax2.set_xlabel('Epoch')\n",
    "ax2.legend(['train', 'vaidation'], loc='upper right')\n",
    "plt.savefig(\"model_high_res.png\",dpi=300)"
   ]
  },
  {
   "cell_type": "markdown",
   "metadata": {},
   "source": [
    "# Prediction Micro Features"
   ]
  },
  {
   "cell_type": "code",
   "execution_count": 17,
   "metadata": {},
   "outputs": [],
   "source": [
    "input_dir = \"base_raster/\"\n",
    "ortho_fname = input_dir + \"israelOrtho_20.tif\""
   ]
  },
  {
   "cell_type": "code",
   "execution_count": null,
   "metadata": {},
   "outputs": [],
   "source": [
    "rast_src,rast = rt.readTiff(ortho_fname)"
   ]
  },
  {
   "cell_type": "code",
   "execution_count": null,
   "metadata": {},
   "outputs": [],
   "source": [
    "nbands, nrows, ncols = rast.shape\n",
    "b,r,c = rast.shape \n",
    "r += r % img_size[0]\n",
    "c += r % img_size[1]\n",
    "pad_rast = np.zeros((b,r,c),np.float32)\n",
    "pad_rast[:,:nrows,:ncols] = rast"
   ]
  },
  {
   "cell_type": "code",
   "execution_count": null,
   "metadata": {},
   "outputs": [],
   "source": [
    "prediction_func = ai.predict(model)\n",
    "result = rt.mem_padTileIterator(rast,prediction_func,img_size,nclasses)[:,:nrows,:ncols]"
   ]
  },
  {
   "cell_type": "code",
   "execution_count": null,
   "metadata": {},
   "outputs": [],
   "source": [
    "# from skimage.filters import gaussian\n",
    "# result_smooth = gaussian(result,1.5)"
   ]
  },
  {
   "cell_type": "code",
   "execution_count": null,
   "metadata": {},
   "outputs": [],
   "source": [
    "profile = rast_src.profile \n",
    "profile.update(dtype=np.float32, count=nclasses)\n",
    "with rasterio.open(result_folder + \"mirco_features_softmax.tif\",\"w+\",**profile) as dst:\n",
    "    dst.write(result.astype(np.float32))\n"
   ]
  },
  {
   "cell_type": "code",
   "execution_count": null,
   "metadata": {},
   "outputs": [],
   "source": [
    "profile = rast_src.profile \n",
    "profile.update(dtype=np.uint8, count=1)\n",
    "with rasterio.open(result_folder + \"micro_features_amax.tif\",\"w+\",**profile) as dst:\n",
    "    dst.write(np.argmax(result,1).astype(np.uint8),1)\n"
   ]
  },
  {
   "cell_type": "markdown",
   "metadata": {},
   "source": [
    "# Prediction Micro Features Drone Data"
   ]
  },
  {
   "cell_type": "code",
   "execution_count": null,
   "metadata": {},
   "outputs": [],
   "source": [
    "full_img = input_dir + \"Ortho_10cm.tif\"\n",
    "src = rasterio.open(full_img)\n",
    "rast_src,rast = rt.memmap(full_img)\n",
    "rast[:] = src.read()"
   ]
  },
  {
   "cell_type": "code",
   "execution_count": null,
   "metadata": {},
   "outputs": [],
   "source": [
    "nbands, nrows, ncols = rast.shape"
   ]
  },
  {
   "cell_type": "code",
   "execution_count": null,
   "metadata": {},
   "outputs": [],
   "source": [
    "b,r,c = rast.shape \n",
    "r += r % img_size[0]\n",
    "c += r % img_size[1]\n",
    "pad_rast =  rt.empty_memmap((b,r,c),np.float32)\n",
    "pad_rast[:,:nrows,:ncols] = rast"
   ]
  },
  {
   "cell_type": "code",
   "execution_count": null,
   "metadata": {},
   "outputs": [],
   "source": [
    "prediction_func = ai.predict(model_drone)\n",
    "result = rt.empty_memmap((nclasses,nrows,ncols),np.float32)\n",
    "result[:] = rt.mem_padTileIterator(pad_rast,prediction_func,img_size,nclasses)[:,:nrows,:ncols]"
   ]
  },
  {
   "cell_type": "code",
   "execution_count": null,
   "metadata": {},
   "outputs": [],
   "source": [
    "profile = rast_src.profile \n",
    "profile.update(dtype=np.float32, count=nclasses)\n",
    "with rasterio.open(result_folder + \"micro_features_softmax_drone.tif\",\"w+\",**profile) as dst:\n",
    "    dst.write(result.astype(np.float32))\n"
   ]
  },
  {
   "cell_type": "code",
   "execution_count": null,
   "metadata": {},
   "outputs": [],
   "source": [
    "profile.update(dtype=np.uint8, count=1)\n",
    "with rasterio.open(result_folder + f\"micro_features_argmax_drone.tif\",\"w+\",**profile) as dst:\n",
    "    dst.write(np.argmax(result,0).astype(np.uint8),1) "
   ]
  },
  {
   "cell_type": "markdown",
   "metadata": {},
   "source": [
    "# Cleanup"
   ]
  },
  {
   "cell_type": "code",
   "execution_count": null,
   "metadata": {},
   "outputs": [],
   "source": [
    "\n",
    "clear_session()\n",
    "cuda.select_device(0)\n",
    "cuda.close()"
   ]
  }
 ],
 "metadata": {
  "interpreter": {
   "hash": "938df0cea843852c2260e5059a854b39fa8f6628a79656f7b0641d4d324ed234"
  },
  "kernelspec": {
   "display_name": "Python 3",
   "language": "python",
   "name": "python3"
  },
  "language_info": {
   "codemirror_mode": {
    "name": "ipython",
    "version": 3
   },
   "file_extension": ".py",
   "mimetype": "text/x-python",
   "name": "python",
   "nbconvert_exporter": "python",
   "pygments_lexer": "ipython3",
   "version": "3.6.13"
  }
 },
 "nbformat": 4,
 "nbformat_minor": 2
}
