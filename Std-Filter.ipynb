{
 "cells": [
  {
   "cell_type": "code",
   "execution_count": null,
   "metadata": {},
   "outputs": [],
   "source": [
    "import os\n",
    "import numpy as np\n",
    "import raster_tools as rt \n",
    "import rasterio\n",
    "import matplotlib.pyplot as plt"
   ]
  },
  {
   "cell_type": "code",
   "execution_count": 1,
   "metadata": {},
   "outputs": [],
   "source": [
    "input_dir = \"base_raster\"\n",
    "target_dir = \"processed_raster\""
   ]
  },
  {
   "cell_type": "markdown",
   "metadata": {},
   "source": [
    "## Read Raster as Memmory Map"
   ]
  },
  {
   "cell_type": "code",
   "execution_count": null,
   "metadata": {},
   "outputs": [],
   "source": [
    "src = rasterio.open(input_dir + \"israelOrtho_20.tif\")\n",
    "rast = np.memmap(\"rast.npy\",shape=(src.count ,src.height,src.width),dtype=np.float64, mode=\"w+\")\n",
    "rast[:] = src.read()"
   ]
  },
  {
   "cell_type": "markdown",
   "metadata": {},
   "source": [
    "## Convert Raster to Grayscale"
   ]
  },
  {
   "cell_type": "code",
   "execution_count": null,
   "metadata": {},
   "outputs": [],
   "source": [
    "rast_grayscale = np.memmap(\"rast_grayscale.npy\",shape=rast.shape[1:], dtype=np.float64, mode=\"w+\")\n",
    "rt.img2grayscale(rast,(0.299, 0.587, 0.114), rast_grayscale)"
   ]
  },
  {
   "cell_type": "markdown",
   "metadata": {},
   "source": [
    "## Calculate 3x3 and 9x9 Standard Deviation Filter"
   ]
  },
  {
   "cell_type": "code",
   "execution_count": null,
   "metadata": {},
   "outputs": [],
   "source": [
    "rast_std3x3 = np.memmap(\"rast_std3x3.npy\",shape=rast.shape[1:], dtype=np.float64, mode=\"w+\")\n",
    "rt.std_filter(rast_grayscale,3, target_rast = rast_std3x3)"
   ]
  },
  {
   "cell_type": "code",
   "execution_count": null,
   "metadata": {},
   "outputs": [],
   "source": [
    "rast_std9x9 = np.memmap(\"rast_std9x9.npy\",shape=rast.shape[1:], dtype=np.float64, mode=\"w+\")\n",
    "rt.std_filter(rast_grayscale,9, rast_std9x9)"
   ]
  },
  {
   "cell_type": "code",
   "execution_count": null,
   "metadata": {},
   "outputs": [],
   "source": [
    "rast_std3x3_normalized = np.memmap(\"rast_std3x3_normalized.npy\",\n",
    "    shape=rast.shape[1:], dtype=np.float64, mode=\"w+\")\n",
    "rast_std3x3_normalized[:] = rt.normalize(rast_std3x3)\n",
    "\n",
    "rast_std9x9_normalized = np.memmap(\"rast_std9x9_normalized.npy\",\n",
    "    shape=rast.shape[1:], dtype=np.float64, mode=\"w+\")\n",
    "rast_std9x9_normalized[:] = rt.normalize(rast_std9x9)"
   ]
  },
  {
   "cell_type": "markdown",
   "metadata": {},
   "source": [
    "## Smooth the Std-Filterd Raster using 9x9 Average Filter and use Median Filter afterwords\n",
    "### The information could give context for traversability as well! The higher the Deviatian the more rough is the surface => lower traversability"
   ]
  },
  {
   "cell_type": "code",
   "execution_count": null,
   "metadata": {},
   "outputs": [],
   "source": [
    "rast_std9x9_mean = np.memmap(\"rast_std9x9_mean.npy\",shape=rast.shape[1:], dtype=np.float64, mode=\"w+\")\n",
    "rt.avg_filter(rast_std9x9_normalized, 9, target_rast =rast_std9x9_mean)"
   ]
  },
  {
   "cell_type": "code",
   "execution_count": null,
   "metadata": {},
   "outputs": [],
   "source": [
    "rast_std9x9_mean_med = np.memmap(\"rast_std9x9_mean_med.npy\",\n",
    "    shape=rast.shape[1:], dtype=np.float64, mode=\"w+\")\n",
    "rt.med_filter(rast_std9x9_mean,9, rast_std9x9_mean_med)"
   ]
  },
  {
   "cell_type": "markdown",
   "metadata": {},
   "source": [
    "## Normalize the STD-Raster between 0 & 1"
   ]
  },
  {
   "cell_type": "code",
   "execution_count": null,
   "metadata": {},
   "outputs": [],
   "source": [
    "rast_std9x9_mean_med_normalized = np.memmap(\"rast_std9x9_mean_med_normalized.npy\",\n",
    "    shape=rast.shape[1:], dtype=np.float64, mode=\"w+\")\n",
    "\n",
    "rast_std9x9_mean_med_normalized[:] = rt.normalize(rast_std9x9_mean_med)"
   ]
  },
  {
   "cell_type": "markdown",
   "metadata": {},
   "source": [
    "## Export Rasters as Geotiff"
   ]
  },
  {
   "cell_type": "code",
   "execution_count": null,
   "metadata": {},
   "outputs": [],
   "source": [
    "profile = src.profile\n",
    "profile.update(dtype=np.float64,count=1)\n",
    "\n",
    "with rasterio.open(target_dir + \"rast_std3x3.tif\",\"w+\",**profile) as dst:\n",
    "    dst.write(rast_std3x3_normalized.astype(np.float64),1)\n",
    "\n",
    "with rasterio.open(target_dir + \"rast_std9x9.tif\",\"w+\",**profile) as dst:\n",
    "    dst.write(rast_std9x9_normalized.astype(np.float64),1)\n",
    "\n",
    "with rasterio.open(target_dir + \"stdMeans_medfilt_normalized.tif\",\"w+\",**profile) as dst:\n",
    "    dst.write(rast_std9x9_mean_med_normalized.astype(np.float64),1)"
   ]
  },
  {
   "cell_type": "markdown",
   "metadata": {},
   "source": [
    "## Clean Up Temporary-Files"
   ]
  },
  {
   "cell_type": "code",
   "execution_count": null,
   "metadata": {},
   "outputs": [],
   "source": [
    "for f in os.listdir():\n",
    "    if f.endswith(\".npy\"):\n",
    "        os.remove(f)\n",
    "\n",
    "    if f.startswith(\".fuse\"):\n",
    "        os.remove(f)"
   ]
  },
  {
   "cell_type": "code",
   "execution_count": null,
   "metadata": {},
   "outputs": [],
   "source": [
    "src = rasterio.open(target_dir + \"rast_std3x3.tif\")\n",
    "rast = src.read(1)"
   ]
  },
  {
   "cell_type": "code",
   "execution_count": null,
   "metadata": {},
   "outputs": [],
   "source": [
    "rast_std = rast.std()"
   ]
  },
  {
   "cell_type": "code",
   "execution_count": null,
   "metadata": {},
   "outputs": [],
   "source": [
    "tresh = rast_std * 3"
   ]
  },
  {
   "cell_type": "code",
   "execution_count": null,
   "metadata": {},
   "outputs": [],
   "source": [
    "profile = src.profile\n",
    "profile.update(count=1,dtype=np.uint8)\n",
    "\n",
    "with rasterio.open(target_dir + \"rast_std_bin3x3.tif\",\"w+\",**profile) as dst:\n",
    "    dst.write((rast > tresh).astype(np.uint8), 1)"
   ]
  }
 ],
 "metadata": {
  "interpreter": {
   "hash": "938df0cea843852c2260e5059a854b39fa8f6628a79656f7b0641d4d324ed234"
  },
  "kernelspec": {
   "display_name": "Python 3.6.13 ('geo')",
   "language": "python",
   "name": "python3"
  },
  "language_info": {
   "codemirror_mode": {
    "name": "ipython",
    "version": 3
   },
   "file_extension": ".py",
   "mimetype": "text/x-python",
   "name": "python",
   "nbconvert_exporter": "python",
   "pygments_lexer": "ipython3",
   "version": "3.6.13"
  },
  "orig_nbformat": 4
 },
 "nbformat": 4,
 "nbformat_minor": 2
}
